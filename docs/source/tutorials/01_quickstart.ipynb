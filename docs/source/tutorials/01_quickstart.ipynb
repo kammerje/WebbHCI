{
 "cells": [
  {
   "cell_type": "markdown",
   "id": "5b59bc13",
   "metadata": {},
   "source": [
    "# Quick-start tutorial"
   ]
  },
  {
   "cell_type": "markdown",
   "id": "7177dfcd",
   "metadata": {},
   "source": [
    "This is a quick example run flow to reduce JWST data with `spaceKLIP`. Do not forget to adapt the yaml configuration file for your data."
   ]
  },
  {
   "cell_type": "code",
   "execution_count": 1,
   "id": "39541b42",
   "metadata": {},
   "outputs": [
    {
     "name": "stdout",
     "output_type": "stream",
     "text": [
      "WebbPSF log messages of level ERROR and above will be shown.\n",
      "WebbPSF log outputs will be directed to the screen.\n",
      "WebbPSF log messages of level ERROR and above will be shown.\n",
      "WebbPSF log outputs will be directed to the screen.\n"
     ]
    }
   ],
   "source": [
    "# Append the directory of the spaceKLIP install, shouldn't be necessary if installed in your conda environment\n",
    "import os, sys\n",
    "sys.path.append('../')\n",
    "\n",
    "# Import the JWST class from spaceKLIP\n",
    "from spaceKLIP.engine import JWST"
   ]
  },
  {
   "cell_type": "code",
   "execution_count": 2,
   "id": "3727c268",
   "metadata": {},
   "outputs": [
    {
     "name": "stdout",
     "output_type": "stream",
     "text": [
      "WARNING: No run directory(ies) specified, looping over all run directories in output directory. Are you sure you want to do this?\n"
     ]
    }
   ],
   "source": [
    "# Provide config file, or 'template' to use existing template\n",
    "config_file = 'example_config.yaml'\n",
    "pipeline = JWST(config_file)"
   ]
  },
  {
   "cell_type": "markdown",
   "id": "6e805c9f",
   "metadata": {},
   "source": [
    "**TBD: associate relevant data to run tutorial**"
   ]
  },
  {
   "cell_type": "code",
   "execution_count": null,
   "id": "f80647f8",
   "metadata": {},
   "outputs": [],
   "source": [
    "# Perform ramp fitting\n",
    "#pipeline.rampfit()"
   ]
  },
  {
   "cell_type": "code",
   "execution_count": null,
   "id": "6273c92a",
   "metadata": {},
   "outputs": [],
   "source": [
    "# Perform image processing\n",
    "#pipeline.imgprocess()"
   ]
  },
  {
   "cell_type": "code",
   "execution_count": null,
   "id": "479f8414",
   "metadata": {},
   "outputs": [],
   "source": [
    "# Perform PSF Subtraction\n",
    "#pipeline.subtraction()"
   ]
  },
  {
   "cell_type": "code",
   "execution_count": null,
   "id": "7d2eee81",
   "metadata": {},
   "outputs": [],
   "source": [
    "# Compute raw contrast\n",
    "#pipeline.raw_contrast()"
   ]
  },
  {
   "cell_type": "code",
   "execution_count": null,
   "id": "58c6a2b3",
   "metadata": {},
   "outputs": [],
   "source": [
    "# Compute calibrated contrast\n",
    "#pipeline.cal_contrast()"
   ]
  },
  {
   "cell_type": "code",
   "execution_count": null,
   "id": "9d481cba",
   "metadata": {},
   "outputs": [],
   "source": [
    "# Extract companion photometry and astrometry\n",
    "#pipeline.companion()"
   ]
  }
 ],
 "metadata": {
  "kernelspec": {
   "display_name": "Python 3 (ipykernel)",
   "language": "python",
   "name": "python3"
  },
  "language_info": {
   "codemirror_mode": {
    "name": "ipython",
    "version": 3
   },
   "file_extension": ".py",
   "mimetype": "text/x-python",
   "name": "python",
   "nbconvert_exporter": "python",
   "pygments_lexer": "ipython3",
   "version": "3.9.12"
  }
 },
 "nbformat": 4,
 "nbformat_minor": 5
}
