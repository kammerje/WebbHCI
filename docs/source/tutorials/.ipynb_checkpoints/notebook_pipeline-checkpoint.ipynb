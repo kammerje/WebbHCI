{
 "cells": [
  {
   "cell_type": "code",
   "execution_count": null,
   "id": "0c858785",
   "metadata": {},
   "outputs": [],
   "source": [
    "# Append the directory of the spaceKLIP install, shouldn't be necessary if installed in your conda environment\n",
    "\n",
    "import os, sys\n",
    "sys.path.append('../')\n",
    "\n",
    "# Import the JWST class from spaceKLIP\n",
    "from spaceKLIP.engine import JWST"
   ]
  },
  {
   "cell_type": "code",
   "execution_count": null,
   "id": "3727c268",
   "metadata": {},
   "outputs": [],
   "source": [
    "# Provide config file, or 'template' to use existing template\n",
    "config_file = 'example_config.yaml'\n",
    "pipeline = JWST(config_file)"
   ]
  },
  {
   "cell_type": "code",
   "execution_count": null,
   "id": "279a3cba",
   "metadata": {},
   "outputs": [],
   "source": [
    "# Perform ramp fitting\n",
    "pipeline.rampfit()"
   ]
  },
  {
   "cell_type": "code",
   "execution_count": null,
   "id": "da7e3b82",
   "metadata": {},
   "outputs": [],
   "source": [
    "# Perform image processing\n",
    "pipeline.imgprocess()"
   ]
  },
  {
   "cell_type": "code",
   "execution_count": null,
   "id": "0f7c94c7",
   "metadata": {},
   "outputs": [],
   "source": [
    "# Perform PSF Subtraction\n",
    "pipeline.subtraction()"
   ]
  },
  {
   "cell_type": "code",
   "execution_count": null,
   "id": "d6a67169",
   "metadata": {},
   "outputs": [],
   "source": [
    "# Compute raw contrast\n",
    "pipeline.raw_contrast()"
   ]
  },
  {
   "cell_type": "code",
   "execution_count": null,
   "id": "e43c1e3a",
   "metadata": {},
   "outputs": [],
   "source": [
    "# Compute calibrated contrast\n",
    "pipeline.cal_contrast()"
   ]
  },
  {
   "cell_type": "code",
   "execution_count": null,
   "id": "06fa09eb",
   "metadata": {},
   "outputs": [],
   "source": [
    "# Extract companion photometry and astrometry\n",
    "pipeline.companion()"
   ]
  }
 ],
 "metadata": {
  "kernelspec": {
   "display_name": "Python 3 (ipykernel)",
   "language": "python",
   "name": "python3"
  },
  "language_info": {
   "codemirror_mode": {
    "name": "ipython",
    "version": 3
   },
   "file_extension": ".py",
   "mimetype": "text/x-python",
   "name": "python",
   "nbconvert_exporter": "python",
   "pygments_lexer": "ipython3",
   "version": "3.9.12"
  }
 },
 "nbformat": 4,
 "nbformat_minor": 5
}
